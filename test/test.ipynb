{
 "cells": [
  {
   "cell_type": "code",
   "execution_count": 26,
   "metadata": {},
   "outputs": [],
   "source": [
    "from gradientflow.core  import *\n",
    "from gradientflow.visualization import *"
   ]
  },
  {
   "cell_type": "code",
   "execution_count": 27,
   "metadata": {},
   "outputs": [
    {
     "name": "stdout",
     "output_type": "stream",
     "text": [
      "{Value(data=-6.0), Value(data=-3.0)} + d\n"
     ]
    }
   ],
   "source": [
    "a = Value(2.0, label='a')\n",
    "b = Value(-3.0, label='b')\n",
    "c = Value(-3.0, label='c')\n",
    "d = a*b + c\n",
    "d.label='d'\n",
    "print(d._children, d._operator, d.label)\n",
    "#draw(d)"
   ]
  },
  {
   "cell_type": "code",
   "execution_count": 28,
   "metadata": {},
   "outputs": [
    {
     "name": "stdout",
     "output_type": "stream",
     "text": [
      "-1.5 1.0 0.5 0.0 0.5 0.5 0.5\n"
     ]
    }
   ],
   "source": [
    "# inputs x1,x2\n",
    "x1 = Value(2.0, label='x1')\n",
    "x2 = Value(0.0, label='x2')\n",
    "# weights w1,w2\n",
    "w1 = Value(-3.0, label='w1')\n",
    "w2 = Value(1.0, label='w2')\n",
    "# bias of the neuron\n",
    "b = Value(6.8813735870195432, label='b')\n",
    "# x1*w1 + x2*w2 + b\n",
    "x1w1 = x1*w1; x1w1.label = 'x1*w1'\n",
    "x2w2 = x2*w2; x2w2.label = 'x2*w2'\n",
    "x1w1x2w2 = x1w1 + x2w2; x1w1x2w2.label = 'x1*w1 + x2*w2'\n",
    "n = x1w1x2w2 + b; n.label = 'n'\n",
    "# ----\n",
    "e = (2*n).exp()\n",
    "o = (e - 1) / (e + 1)\n",
    "# ----\n",
    "o.label = 'o'\n",
    "o.backward()\n",
    "#draw_dot(o)\n",
    "print(x1.grad, w1.grad, x2.grad, w2.grad, x1w1.grad, x2w2.grad, x1w1x2w2.grad)"
   ]
  },
  {
   "cell_type": "code",
   "execution_count": 29,
   "metadata": {},
   "outputs": [
    {
     "data": {
      "text/plain": [
       "Value(data=0.014843531246128826)"
      ]
     },
     "execution_count": 29,
     "metadata": {},
     "output_type": "execute_result"
    }
   ],
   "source": [
    "x = [2.0, 3.0]\n",
    "n1 = Neuron(2)\n",
    "n1(x)\n"
   ]
  },
  {
   "cell_type": "code",
   "execution_count": 30,
   "metadata": {},
   "outputs": [
    {
     "data": {
      "text/plain": [
       "[Value(data=0.9944493439004242),\n",
       " Value(data=-0.21274880527088924),\n",
       " Value(data=0.9836126518903409)]"
      ]
     },
     "execution_count": 30,
     "metadata": {},
     "output_type": "execute_result"
    }
   ],
   "source": [
    "n2 = Layer(2, 3)\n",
    "n2(x)"
   ]
  },
  {
   "cell_type": "code",
   "execution_count": 45,
   "metadata": {},
   "outputs": [
    {
     "data": {
      "text/plain": [
       "Value(data=-0.42250294842306385)"
      ]
     },
     "execution_count": 45,
     "metadata": {},
     "output_type": "execute_result"
    }
   ],
   "source": [
    "x = [2.0, 3.0, -1.0]\n",
    "n = MLP(3, [4, 4, 1])\n",
    "n(x)"
   ]
  },
  {
   "cell_type": "code",
   "execution_count": 46,
   "metadata": {},
   "outputs": [
    {
     "data": {
      "text/plain": [
       "[Value(data=-0.42250294842306385),\n",
       " Value(data=-0.8300909966181568),\n",
       " Value(data=-0.3590970430256477),\n",
       " Value(data=-0.4228019884118838)]"
      ]
     },
     "execution_count": 46,
     "metadata": {},
     "output_type": "execute_result"
    }
   ],
   "source": [
    "xs = [\n",
    "    [2.0, 3.0, -1.0],\n",
    "    [3.0, -1.0, 0.5],\n",
    "    [0.5, 1.0, 1.0],\n",
    "    [1.0, 1.0, -1.0]\n",
    "]\n",
    "ys = [1.0, -1.0, -1.0, 1.0]\n",
    "ypred = [n(x) for x in xs]\n",
    "ypred"
   ]
  },
  {
   "cell_type": "code",
   "execution_count": 33,
   "metadata": {},
   "outputs": [
    {
     "data": {
      "text/plain": [
       "Value(data=2.9680660185240666)"
      ]
     },
     "execution_count": 33,
     "metadata": {},
     "output_type": "execute_result"
    }
   ],
   "source": [
    "mse = sum((yout - ygt)**2 for ygt, yout in zip(ys, ypred))\n",
    "mse"
   ]
  },
  {
   "cell_type": "code",
   "execution_count": 34,
   "metadata": {},
   "outputs": [],
   "source": [
    "mse.backward()"
   ]
  },
  {
   "cell_type": "code",
   "execution_count": 35,
   "metadata": {},
   "outputs": [
    {
     "data": {
      "text/plain": [
       "0.11382458232883164"
      ]
     },
     "execution_count": 35,
     "metadata": {},
     "output_type": "execute_result"
    }
   ],
   "source": [
    "n.layers[0].neurons[0].w[0].grad"
   ]
  },
  {
   "cell_type": "code",
   "execution_count": 36,
   "metadata": {},
   "outputs": [
    {
     "data": {
      "text/plain": [
       "0.4771514189338353"
      ]
     },
     "execution_count": 36,
     "metadata": {},
     "output_type": "execute_result"
    }
   ],
   "source": [
    "n.layers[0].neurons[0].w[0].data"
   ]
  },
  {
   "cell_type": "code",
   "execution_count": 37,
   "metadata": {},
   "outputs": [
    {
     "data": {
      "text/plain": [
       "[Value(data=0.4771514189338353),\n",
       " Value(data=-0.4314886544131564),\n",
       " Value(data=-0.14032356560060566),\n",
       " Value(data=-0.9945362174812231),\n",
       " Value(data=-0.5902085714479985),\n",
       " Value(data=-0.20298498706741563),\n",
       " Value(data=-0.48935303297028043),\n",
       " Value(data=0.524004867726336),\n",
       " Value(data=0.9859942184873889),\n",
       " Value(data=0.2605531630557971),\n",
       " Value(data=0.8067352609655745),\n",
       " Value(data=0.5288696337681649),\n",
       " Value(data=0.6829370193303881),\n",
       " Value(data=0.5872634308336204),\n",
       " Value(data=0.5847032462182733),\n",
       " Value(data=0.652518122687096),\n",
       " Value(data=0.157273965754394),\n",
       " Value(data=-0.7364858879969309),\n",
       " Value(data=0.9871326409528678),\n",
       " Value(data=0.8168438716993829),\n",
       " Value(data=-0.8415554836032166),\n",
       " Value(data=0.49224395820192823),\n",
       " Value(data=-0.7395450080216568),\n",
       " Value(data=0.6908710438854015),\n",
       " Value(data=-0.5726547418929115),\n",
       " Value(data=-0.5132866735265873),\n",
       " Value(data=0.09582975470905897),\n",
       " Value(data=0.5290507622127776),\n",
       " Value(data=-0.8978311639342145),\n",
       " Value(data=0.9842475935672785),\n",
       " Value(data=-0.7904827587235872),\n",
       " Value(data=-0.4272089944116444),\n",
       " Value(data=0.3430284651103197),\n",
       " Value(data=-0.02400010750851922),\n",
       " Value(data=0.38543229657572775),\n",
       " Value(data=-0.26903030239812975),\n",
       " Value(data=0.9741339655518382),\n",
       " Value(data=-0.8131710132455843),\n",
       " Value(data=0.9235226223933897),\n",
       " Value(data=0.3286237597253052),\n",
       " Value(data=-0.2972445442837619)]"
      ]
     },
     "execution_count": 37,
     "metadata": {},
     "output_type": "execute_result"
    }
   ],
   "source": [
    "n.parameters()"
   ]
  },
  {
   "cell_type": "code",
   "execution_count": 38,
   "metadata": {},
   "outputs": [
    {
     "data": {
      "text/plain": [
       "41"
      ]
     },
     "execution_count": 38,
     "metadata": {},
     "output_type": "execute_result"
    }
   ],
   "source": [
    "len(n.parameters())"
   ]
  },
  {
   "cell_type": "code",
   "execution_count": 39,
   "metadata": {},
   "outputs": [],
   "source": [
    "for p in n.parameters():\n",
    "    p.data += -0.01 * p.grad"
   ]
  },
  {
   "cell_type": "code",
   "execution_count": 40,
   "metadata": {},
   "outputs": [
    {
     "data": {
      "text/plain": [
       "Value(data=2.8756800706296914)"
      ]
     },
     "execution_count": 40,
     "metadata": {},
     "output_type": "execute_result"
    }
   ],
   "source": [
    "ypred = [n(x) for x in xs]\n",
    "mse = sum((yout - ygt)**2 for ygt, yout in zip(ys, ypred))\n",
    "mse"
   ]
  },
  {
   "cell_type": "code",
   "execution_count": 41,
   "metadata": {},
   "outputs": [
    {
     "data": {
      "text/plain": [
       "[Value(data=0.15870861390304222),\n",
       " Value(data=-0.6134310109279222),\n",
       " Value(data=0.25294243951926404),\n",
       " Value(data=0.3302175470736349)]"
      ]
     },
     "execution_count": 41,
     "metadata": {},
     "output_type": "execute_result"
    }
   ],
   "source": [
    "ypred"
   ]
  },
  {
   "cell_type": "code",
   "execution_count": 75,
   "metadata": {},
   "outputs": [
    {
     "name": "stdout",
     "output_type": "stream",
     "text": [
      "0 0.001412457507363921\n",
      "1 0.0014095027463134114\n",
      "2 0.0014065601374660063\n",
      "3 0.0014036296064595486\n",
      "4 0.001400711079535307\n",
      "5 0.0013978044835318974\n",
      "6 0.0013949097458793023\n",
      "7 0.0013920267945928503\n",
      "8 0.0013891555582674002\n",
      "9 0.001386295966071504\n",
      "10 0.0013834479477416533\n",
      "11 0.0013806114335766645\n",
      "12 0.0013777863544320078\n",
      "13 0.0013749726417143348\n",
      "14 0.0013721702273760002\n",
      "15 0.0013693790439095745\n",
      "16 0.0013665990243426306\n",
      "17 0.0013638301022323835\n",
      "18 0.0013610722116605108\n",
      "19 0.0013583252872279726\n"
     ]
    }
   ],
   "source": [
    "for k in range(20):\n",
    "    \n",
    "    ypred = [n(x) for x in xs]\n",
    "    loss = sum((yout - ygt)**2 for ygt, yout in zip(ys, ypred))\n",
    "    \n",
    "    for p in n.parameters():\n",
    "        p.grad = 0.0\n",
    "    loss.backward()\n",
    "    \n",
    "    for p in n.parameters():\n",
    "        p.data += -0.05 * p.grad\n",
    "    \n",
    "    print(k, loss.data)"
   ]
  },
  {
   "cell_type": "code",
   "execution_count": 76,
   "metadata": {},
   "outputs": [
    {
     "data": {
      "text/plain": [
       "[Value(data=0.9854880241891864),\n",
       " Value(data=-0.9941311840665469),\n",
       " Value(data=-0.9738785140750809),\n",
       " Value(data=0.9792405968797793)]"
      ]
     },
     "execution_count": 76,
     "metadata": {},
     "output_type": "execute_result"
    }
   ],
   "source": [
    "ypred"
   ]
  }
 ],
 "metadata": {
  "kernelspec": {
   "display_name": "Python 3",
   "language": "python",
   "name": "python3"
  },
  "language_info": {
   "codemirror_mode": {
    "name": "ipython",
    "version": 3
   },
   "file_extension": ".py",
   "mimetype": "text/x-python",
   "name": "python",
   "nbconvert_exporter": "python",
   "pygments_lexer": "ipython3",
   "version": "3.10.11"
  }
 },
 "nbformat": 4,
 "nbformat_minor": 2
}
